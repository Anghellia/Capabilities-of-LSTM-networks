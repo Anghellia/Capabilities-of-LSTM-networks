{
 "cells": [
  {
   "cell_type": "code",
   "execution_count": 2,
   "metadata": {
    "colab": {
     "base_uri": "https://localhost:8080/",
     "height": 35
    },
    "colab_type": "code",
    "id": "brTA-k9MBeVU",
    "outputId": "c5b26484-305f-4396-a9bd-b29547310c22"
   },
   "outputs": [],
   "source": [
    "# Импортируем библиотеки\n",
    "\n",
    "import numpy as np \n",
    "import pandas as pd\n",
    "import matplotlib.pyplot as plt\n",
    "from tensorflow.keras.models import Sequential\n",
    "from tensorflow.keras.layers import LSTM\n",
    "from tensorflow.keras.layers import Dense\n",
    "from sklearn.metrics import mean_squared_error"
   ]
  },
  {
   "cell_type": "code",
   "execution_count": 0,
   "metadata": {
    "colab": {},
    "colab_type": "code",
    "id": "nsRnuPkDBhnb"
   },
   "outputs": [],
   "source": [
    "def split_sequence(sequence, n_steps):\n",
    "    n = len(sequence)\n",
    "    X, y = list(), list()\n",
    "    for i in range(n):\n",
    "        end_ix = i + n_steps\n",
    "        if end_ix > n-1:\n",
    "            break\n",
    "        seq_x, seq_y = sequence[i:end_ix], sequence[end_ix]\n",
    "        X.append(seq_x)\n",
    "        y.append(seq_y)\n",
    "    return np.array(X), np.array(y)"
   ]
  },
  {
   "cell_type": "code",
   "execution_count": 0,
   "metadata": {
    "colab": {},
    "colab_type": "code",
    "id": "z_d7XPCl9uYL"
   },
   "outputs": [],
   "source": [
    "def plot_difference(true_sequence, predict_values, unit):\n",
    "    print(f'Prediction of model with {unit}:')\n",
    "    df = pd.DataFrame({'real value': true_sequence, 'predicted value': np.round(predict_values, 3), 'difference': np.round(abs(true_sequence-predict_values), 1)})\n",
    "    with pd.option_context('display.max_rows', None, 'display.max_columns', None):\n",
    "        print(df)"
   ]
  },
  {
   "cell_type": "markdown",
   "metadata": {
    "colab_type": "text",
    "id": "mAsAPMA8gaHY"
   },
   "source": [
    "# **Data generation**"
   ]
  },
  {
   "cell_type": "code",
   "execution_count": 0,
   "metadata": {
    "colab": {},
    "colab_type": "code",
    "id": "BvV05Wvu-D-x"
   },
   "outputs": [],
   "source": [
    "def fibonacci(start=(0, 1), num=10):\n",
    "    x = [start[0], start[1]]\n",
    "    for i in range(2, num+1):\n",
    "        x.append(x[i-1] + x[i-2])\n",
    "    return np.array(x)"
   ]
  },
  {
   "cell_type": "code",
   "execution_count": 0,
   "metadata": {
    "colab": {},
    "colab_type": "code",
    "id": "T_HCtSs84KqJ"
   },
   "outputs": [],
   "source": [
    "def generate_data(n_steps=4):\n",
    "    \n",
    "    num = 25\n",
    "    batch_size = 2000\n",
    "    i = 0\n",
    "    \n",
    "    X = np.empty((batch_size, n_steps))\n",
    "    y = np.empty((batch_size, 1))\n",
    "\n",
    "    start_val = np.array([0, 1])\n",
    "\n",
    "    while i < batch_size:\n",
    "    \n",
    "        array = fibonacci(start=(start_val[0], start_val[1]), num=num)\n",
    "        j = 0\n",
    "\n",
    "        while j <= num - (n_steps + 1):\n",
    "            if i >= batch_size: break\n",
    "            X[i, :] = array[j:n_steps+j]\n",
    "            y[i, :] = array[j+n_steps] \n",
    "            i += 1\n",
    "            j += 1\n",
    "        \n",
    "        start_val += 1\n",
    "\n",
    "    _, index = np.unique(X, axis=0, return_index=True)\n",
    "    X, y = X[index], y[index]\n",
    "    X = X.reshape((X.shape[0], X.shape[1], 1))\n",
    "    return X, y"
   ]
  },
  {
   "cell_type": "code",
   "execution_count": 0,
   "metadata": {
    "colab": {
     "base_uri": "https://localhost:8080/",
     "height": 52
    },
    "colab_type": "code",
    "id": "ZxsSYkITkmLj",
    "outputId": "dc28fd0b-1629-4117-d9bf-29000f8fdf0c"
   },
   "outputs": [
    {
     "name": "stdout",
     "output_type": "stream",
     "text": [
      "X_train shape is (1961, 4, 1)\n",
      "y_train shape is (1961, 1)\n"
     ]
    }
   ],
   "source": [
    "n_steps = 4\n",
    "X_train, y_train = generate_data(n_steps)\n",
    "print(f'X_train shape is {X_train.shape}')\n",
    "print(f'y_train shape is {y_train.shape}')"
   ]
  },
  {
   "cell_type": "markdown",
   "metadata": {
    "colab_type": "text",
    "id": "W18N19mph1Rx"
   },
   "source": [
    "## **Model with one LSTM layer**"
   ]
  },
  {
   "cell_type": "code",
   "execution_count": 0,
   "metadata": {
    "colab": {},
    "colab_type": "code",
    "id": "bLtcQELn-UZN"
   },
   "outputs": [],
   "source": [
    "def predict(true_sequence, model):\n",
    "    predict_values = true_sequence[:n_steps]\n",
    "    k = n_steps\n",
    "    length = true_sequence.size\n",
    "    while k != length:\n",
    "        X = predict_values[-n_steps::]\n",
    "        X = X.reshape((1, n_steps, 1))\n",
    "        f_x = model.predict(X, verbose=0) \n",
    "        predict_values = np.append(predict_values, f_x)\n",
    "        k += 1\n",
    "    return predict_values"
   ]
  },
  {
   "cell_type": "code",
   "execution_count": 0,
   "metadata": {
    "colab": {},
    "colab_type": "code",
    "id": "Et5WoaFM-VYX"
   },
   "outputs": [],
   "source": [
    "sequence = fibonacci(start=(2, 2), num=25)"
   ]
  },
  {
   "cell_type": "code",
   "execution_count": 0,
   "metadata": {
    "colab": {
     "base_uri": "https://localhost:8080/",
     "height": 1000
    },
    "colab_type": "code",
    "id": "g9r8hz6O9qXR",
    "outputId": "70bc84ea-0a7c-4a4c-c710-bc22025c488a"
   },
   "outputs": [
    {
     "name": "stdout",
     "output_type": "stream",
     "text": [
      "Units in LSTM layer: 1, MSE is:: 2399434630.5131\n",
      "Units in LSTM layer: 2, MSE is:: 100525294.538\n",
      "Units in LSTM layer: 3, MSE is:: 18464.1777\n",
      "Units in LSTM layer: 4, MSE is:: 44394.6597\n",
      "Units in LSTM layer: 5, MSE is:: 128990.2773\n",
      "Prediction of model with 5:\n",
      "    real value  predicted value  difference\n",
      "0            1            1.000         0.0\n",
      "1            2            2.000         0.0\n",
      "2            3            3.000         0.0\n",
      "3            5            5.000         0.0\n",
      "4            8            8.019         0.0\n",
      "5           13           13.041         0.0\n",
      "6           21           20.691         0.3\n",
      "7           34           34.215         0.2\n",
      "8           55           54.477         0.5\n",
      "9           89           87.595         1.4\n",
      "10         144          142.683         1.3\n",
      "11         233          231.493         1.5\n",
      "12         377          372.490         4.5\n",
      "13         610          605.548         4.5\n",
      "14         987          982.136         4.9\n",
      "15        1597         1585.507        11.5\n",
      "16        2584         2561.867        22.1\n",
      "17        4181         4150.574        30.4\n",
      "18        6765         6719.807        45.2\n",
      "19       10946        10865.988        80.0\n",
      "20       17711        17575.518       135.5\n",
      "21       28657        28447.924       209.1\n",
      "22       46368        46036.586       331.4\n",
      "23       75025        74475.656       549.3\n",
      "24      121393       120493.914       899.1\n",
      "25      196418       194982.156      1435.8\n",
      "Units in LSTM layer: 6, MSE is:: 1597536.9987\n",
      "Prediction of model with 6:\n",
      "    real value  predicted value  difference\n",
      "0            1            1.000         0.0\n",
      "1            2            2.000         0.0\n",
      "2            3            3.000         0.0\n",
      "3            5            5.000         0.0\n",
      "4            8            8.406         0.4\n",
      "5           13           13.549         0.5\n",
      "6           21           21.677         0.7\n",
      "7           34           35.000         1.0\n",
      "8           55           56.471         1.5\n",
      "9           89           91.537         2.5\n",
      "10         144          147.446         3.4\n",
      "11         233          238.620         5.6\n",
      "12         377          387.078        10.1\n",
      "13         610          625.457        15.5\n",
      "14         987         1012.010        25.0\n",
      "15        1597         1638.628        41.6\n",
      "16        2584         2650.666        66.7\n",
      "17        4181         4288.060       107.1\n",
      "18        6765         6939.244       174.2\n",
      "19       10946        11228.526       282.5\n",
      "20       17711        18166.900       455.9\n",
      "21       28657        29394.973       738.0\n",
      "22       46368        47563.785      1195.8\n",
      "23       75025        76959.758      1934.8\n",
      "24      121393       124523.297      3130.3\n",
      "25      196418       201485.812      5067.8\n",
      "Units in LSTM layer: 7, MSE is:: 66172.7292\n",
      "Prediction of model with 7:\n",
      "    real value  predicted value  difference\n",
      "0            1            1.000         0.0\n",
      "1            2            2.000         0.0\n",
      "2            3            3.000         0.0\n",
      "3            5            5.000         0.0\n",
      "4            8            7.844         0.2\n",
      "5           13           13.075         0.1\n",
      "6           21           21.106         0.1\n",
      "7           34           33.758         0.2\n",
      "8           55           55.025         0.0\n",
      "9           89           90.075         1.1\n",
      "10         144          144.112         0.1\n",
      "11         233          234.653         1.7\n",
      "12         377          380.657         3.7\n",
      "13         610          611.693         1.7\n",
      "14         987          991.728         4.7\n",
      "15        1597         1606.356         9.4\n",
      "16        2584         2598.621        14.6\n",
      "17        4181         4201.234        20.2\n",
      "18        6765         6800.543        35.5\n",
      "19       10946        11004.739        58.7\n",
      "20       17711        17804.369        93.4\n",
      "21       28657        28805.805       148.8\n",
      "22       46368        46612.121       244.1\n",
      "23       75025        75420.375       395.4\n",
      "24      121393       122030.430       637.4\n",
      "25      196418       197448.500      1030.5\n",
      "Units in LSTM layer: 8, MSE is:: 7370.2888\n",
      "Prediction of model with 8:\n",
      "    real value  predicted value  difference\n",
      "0            1            1.000         0.0\n",
      "1            2            2.000         0.0\n",
      "2            3            3.000         0.0\n",
      "3            5            5.000         0.0\n",
      "4            8            7.995         0.0\n",
      "5           13           12.996         0.0\n",
      "6           21           21.010         0.0\n",
      "7           34           34.072         0.1\n",
      "8           55           55.097         0.1\n",
      "9           89           89.195         0.2\n",
      "10         144          144.242         0.2\n",
      "11         233          233.451         0.5\n",
      "12         377          377.512         0.5\n",
      "13         610          610.975         1.0\n",
      "14         987          988.530         1.5\n",
      "15        1597         1599.693         2.7\n",
      "16        2584         2588.385         4.4\n",
      "17        4181         4188.145         7.1\n",
      "18        6765         6776.690        11.7\n",
      "19       10946        10964.999        19.0\n",
      "20       17711        17741.816        30.8\n",
      "21       28657        28706.992        50.0\n",
      "22       46368        46449.027        81.0\n",
      "23       75025        75156.266       131.3\n",
      "24      121393       121605.625       212.6\n",
      "25      196418       196762.375       344.4\n",
      "Units in LSTM layer: 9, MSE is:: 673838.1894\n",
      "Prediction of model with 9:\n",
      "    real value  predicted value  difference\n",
      "0            1            1.000         0.0\n",
      "1            2            2.000         0.0\n",
      "2            3            3.000         0.0\n",
      "3            5            5.000         0.0\n",
      "4            8            8.090         0.1\n",
      "5           13           12.860         0.1\n",
      "6           21           20.789         0.2\n",
      "7           34           33.456         0.5\n",
      "8           55           54.156         0.8\n",
      "9           89           87.373         1.6\n",
      "10         144          141.578         2.4\n",
      "11         233          229.913         3.1\n",
      "12         377          370.383         6.6\n",
      "13         610          598.532        11.5\n",
      "14         987          970.721        16.3\n",
      "15        1597         1570.377        26.6\n",
      "16        2584         2540.405        43.6\n",
      "17        4181         4110.286        70.7\n",
      "18        6765         6651.798       113.2\n",
      "19       10946        10762.521       183.5\n",
      "20       17711        17414.082       296.9\n",
      "21       28657        28176.570       480.4\n",
      "22       46368        45591.320       776.7\n",
      "23       75025        73768.078      1256.9\n",
      "24      121393       119359.359      2033.6\n",
      "25      196418       193127.484      3290.5\n",
      "Units in LSTM layer: 10, MSE is:: 1097059.4087\n",
      "Units in LSTM layer: 15, MSE is:: 53247.0285\n",
      "Units in LSTM layer: 20, MSE is:: 63326.8671\n",
      "Units in LSTM layer: 25, MSE is:: 49209.6417\n",
      "Units in LSTM layer: 30, MSE is:: 67586.9302\n",
      "Units in LSTM layer: 35, MSE is:: 678322.8479\n",
      "Units in LSTM layer: 40, MSE is:: 303321.545\n",
      "Prediction of model with 40:\n",
      "    real value  predicted value  difference\n",
      "0            1            1.000         0.0\n",
      "1            2            2.000         0.0\n",
      "2            3            3.000         0.0\n",
      "3            5            5.000         0.0\n",
      "4            8            7.914         0.1\n",
      "5           13           12.881         0.1\n",
      "6           21           20.723         0.3\n",
      "7           34           33.594         0.4\n",
      "8           55           54.244         0.8\n",
      "9           89           87.726         1.3\n",
      "10         144          142.373         1.6\n",
      "11         233          230.297         2.7\n",
      "12         377          372.423         4.6\n",
      "13         610          602.480         7.5\n",
      "14         987          976.028        11.0\n",
      "15        1597         1578.972        18.0\n",
      "16        2584         2554.656        29.3\n",
      "17        4181         4133.688        47.3\n",
      "18        6765         6689.251        75.7\n",
      "19       10946        10822.678       123.3\n",
      "20       17711        17511.434       199.6\n",
      "21       28657        28334.748       322.3\n",
      "22       46368        45846.973       521.0\n",
      "23       75025        74181.109       843.9\n",
      "24      121393       120028.203      1364.8\n",
      "25      196418       194210.781      2207.2\n",
      "Units in LSTM layer: 45, MSE is:: 35308.4445\n",
      "Units in LSTM layer: 50, MSE is:: 101911.1564\n",
      "Prediction of model with 50:\n",
      "    real value  predicted value  difference\n",
      "0            1            1.000         0.0\n",
      "1            2            2.000         0.0\n",
      "2            3            3.000         0.0\n",
      "3            5            5.000         0.0\n",
      "4            8            7.785         0.2\n",
      "5           13           13.005         0.0\n",
      "6           21           20.784         0.2\n",
      "7           34           33.683         0.3\n",
      "8           55           54.596         0.4\n",
      "9           89           88.305         0.7\n",
      "10         144          142.976         1.0\n",
      "11         233          231.355         1.6\n",
      "12         377          374.336         2.7\n",
      "13         610          606.150         3.9\n",
      "14         987          981.639         5.4\n",
      "15        1597         1586.561        10.4\n",
      "16        2584         2567.989        16.0\n",
      "17        4181         4155.291        25.7\n",
      "18        6765         6722.561        42.4\n",
      "19       10946        10876.074        69.9\n",
      "20       17711        17598.477       112.5\n",
      "21       28657        28473.908       183.1\n",
      "22       46368        46069.355       298.6\n",
      "23       75025        74539.156       485.8\n",
      "24      121393       120603.945       789.1\n",
      "25      196418       195134.297      1283.7\n",
      "Units in LSTM layer: 55, MSE is:: 2228886.3675\n",
      "Units in LSTM layer: 60, MSE is:: 72575.4541\n"
     ]
    }
   ],
   "source": [
    "units_number = list(range(1, 11)) + list(range(15, 65, 5))\n",
    "losses = []\n",
    "min_loss = None\n",
    "min_unit = None\n",
    "\n",
    "for unit in units_number: \n",
    "    model = Sequential()\n",
    "    model.add(LSTM(unit, activation='softplus', input_shape=(n_steps, 1)))\n",
    "    model.add(Dense(1))\n",
    "    model.compile(optimizer='adam', loss='mse')\n",
    "\n",
    "    model.fit(X_train, y_train, epochs=800, validation_split=0.2, verbose=0)\n",
    "    \n",
    "    predict_y = predict(sequence, model)\n",
    "    mse = mean_squared_error(sequence, predict_y)\n",
    "\n",
    "    if min_loss is None or mse < min_loss:\n",
    "        min_unit = unit\n",
    "        min_loss = mse\n",
    "        best_model = model\n",
    "    losses.append(mse)\n",
    "    \n",
    "    print(f'Units in LSTM layer: {unit}, MSE is:: {np.round(mse, 4)}')\n",
    "    if unit in (5, 6, 7, 8, 9, 40, 50):\n",
    "        plot_difference(sequence, predict_y, unit)"
   ]
  },
  {
   "cell_type": "markdown",
   "metadata": {
    "colab_type": "text",
    "id": "oPqAPiuoiM1e"
   },
   "source": [
    "# **Testing best model performance**"
   ]
  },
  {
   "cell_type": "markdown",
   "metadata": {
    "colab_type": "text",
    "id": "HHjPa5smN4Bj"
   },
   "source": [
    "$F_n = F_{n-1} + F_{n-2}, n >= 2$  \n",
    "Пусть $F_0 = 0, F_1 = 1$"
   ]
  },
  {
   "cell_type": "code",
   "execution_count": 0,
   "metadata": {
    "colab": {
     "base_uri": "https://localhost:8080/",
     "height": 532
    },
    "colab_type": "code",
    "id": "-zgS5WobiXiB",
    "outputId": "0bb714c2-7acc-4257-fd0d-03ba58e14720"
   },
   "outputs": [
    {
     "name": "stdout",
     "output_type": "stream",
     "text": [
      "mse is 31027.72803814561\n",
      "Prediction of model with 8:\n",
      "    real value  predicted value  difference\n",
      "0            0            0.000         0.0\n",
      "1            1            1.000         0.0\n",
      "2            1            1.000         0.0\n",
      "3            2            2.000         0.0\n",
      "4            3            2.969         0.0\n",
      "5            5            4.923         0.1\n",
      "6            8            7.915         0.1\n",
      "7           13           12.861         0.1\n",
      "8           21           20.771         0.2\n",
      "9           34           33.691         0.3\n",
      "10          55           54.496         0.5\n",
      "11          89           88.211         0.8\n",
      "12         144          142.651         1.3\n",
      "13         233          230.865         2.1\n",
      "14         377          373.346         3.7\n",
      "15         610          604.231         5.8\n",
      "16         987          977.414         9.6\n",
      "17        1597         1581.913        15.1\n",
      "18        2584         2559.576        24.4\n",
      "19        4181         4141.449        39.6\n",
      "20        6765         6701.204        63.8\n",
      "21       10946        10842.867       103.1\n",
      "22       17711        17544.156       166.8\n",
      "23       28657        28387.197       269.8\n",
      "24       46368        45931.598       436.4\n",
      "25       75025        74319.023       706.0\n"
     ]
    }
   ],
   "source": [
    "sequence = fibonacci(start=(0, 1), num=25)\n",
    "predict_y = predict(sequence, best_model)\n",
    "mse = mean_squared_error(sequence, predict_y)\n",
    "print(f'mse is {mse}')\n",
    "plot_difference(sequence, predict_y, min_unit)"
   ]
  },
  {
   "cell_type": "markdown",
   "metadata": {
    "colab_type": "text",
    "id": "Yxp-0OnzOvGc"
   },
   "source": [
    "Пусть $F_0 = 4, F_1=5$"
   ]
  },
  {
   "cell_type": "code",
   "execution_count": 0,
   "metadata": {
    "colab": {
     "base_uri": "https://localhost:8080/",
     "height": 532
    },
    "colab_type": "code",
    "id": "7lnqHMwWjFCD",
    "outputId": "2cf148d9-d1bd-45c6-a8ae-a3d8871f3bc9"
   },
   "outputs": [
    {
     "name": "stdout",
     "output_type": "stream",
     "text": [
      "mse is 147027.77107351896\n",
      "Prediction of model with 8:\n",
      "    real value  predicted value  difference\n",
      "0            4            4.000         0.0\n",
      "1            5            5.000         0.0\n",
      "2            9            9.000         0.0\n",
      "3           14           14.000         0.0\n",
      "4           23           23.005         0.0\n",
      "5           37           37.073         0.1\n",
      "6           60           60.147         0.1\n",
      "7           97           97.210         0.2\n",
      "8          157          157.410         0.4\n",
      "9          254          254.758         0.8\n",
      "10         411          411.882         0.9\n",
      "11         665          666.519         1.5\n",
      "12        1076         1079.030         3.0\n",
      "13        1741         1745.568         4.6\n",
      "14        2817         2824.479         7.5\n",
      "15        4558         4570.405        12.4\n",
      "16        7375         7395.021        20.0\n",
      "17       11933        11965.442        32.4\n",
      "18       19308        19360.699        52.7\n",
      "19       31241        31326.346        85.3\n",
      "20       50549        50687.191       138.2\n",
      "21       81790        82013.820       223.8\n",
      "22      132339       132701.391       362.4\n",
      "23      214129       214715.688       586.7\n",
      "24      346468       347417.812       949.8\n",
      "25      560597       562134.562      1537.6\n"
     ]
    }
   ],
   "source": [
    "sequence = fibonacci(start=(4, 5), num=25)\n",
    "predict_y = predict(sequence, best_model)\n",
    "mse = mean_squared_error(sequence, predict_y)\n",
    "print(f'mse is {mse}')\n",
    "plot_difference(sequence, predict_y, min_unit)"
   ]
  },
  {
   "cell_type": "markdown",
   "metadata": {
    "colab_type": "text",
    "id": "C3qPl_V3hfOY"
   },
   "source": [
    "# **Model with two LSTM layers**"
   ]
  },
  {
   "cell_type": "code",
   "execution_count": 0,
   "metadata": {
    "colab": {
     "base_uri": "https://localhost:8080/",
     "height": 52
    },
    "colab_type": "code",
    "id": "WYA8uGcHhjsJ",
    "outputId": "61fdc974-b8cc-437b-9878-9a6eea2b5c7a"
   },
   "outputs": [
    {
     "name": "stdout",
     "output_type": "stream",
     "text": [
      "X_train shape is (1961, 4, 1)\n",
      "y_train shape is (1961, 1)\n"
     ]
    }
   ],
   "source": [
    "n_steps = 4\n",
    "X_train, y_train = generate_data(n_steps)\n",
    "print(f'X_train shape is {X_train.shape}')\n",
    "print(f'y_train shape is {y_train.shape}')"
   ]
  },
  {
   "cell_type": "code",
   "execution_count": 0,
   "metadata": {
    "colab": {
     "base_uri": "https://localhost:8080/",
     "height": 1000
    },
    "colab_type": "code",
    "id": "krAIYPrYhu67",
    "outputId": "738679ce-f61b-48f4-e3c5-469ae7e5f60c"
   },
   "outputs": [
    {
     "name": "stdout",
     "output_type": "stream",
     "text": [
      "WARNING:tensorflow:From /tensorflow-1.15.2/python3.6/tensorflow_core/python/ops/resource_variable_ops.py:1630: calling BaseResourceVariable.__init__ (from tensorflow.python.ops.resource_variable_ops) with constraint is deprecated and will be removed in a future version.\n",
      "Instructions for updating:\n",
      "If using Keras pass *_constraint arguments to layers.\n",
      "WARNING:tensorflow:From /tensorflow-1.15.2/python3.6/tensorflow_core/python/ops/math_grad.py:1424: where (from tensorflow.python.ops.array_ops) is deprecated and will be removed in a future version.\n",
      "Instructions for updating:\n",
      "Use tf.where in 2.0, which has the same broadcast rule as np.where\n",
      "Units in LSTM layer: 1, MSE is:: 543384195.084\n",
      "Units in LSTM layer: 2, MSE is:: 3666441733.9008\n",
      "Units in LSTM layer: 3, MSE is:: 20419857.0409\n",
      "Units in LSTM layer: 4, MSE is:: 2752561.5383\n",
      "Units in LSTM layer: 5, MSE is:: 35766405974.386\n",
      "Prediction of model with 5:\n",
      "    real value  predicted value  difference\n",
      "0            2            2.000         0.0\n",
      "1            2            2.000         0.0\n",
      "2            4            4.000         0.0\n",
      "3            6            6.000         0.0\n",
      "4           10           10.980         1.0\n",
      "5           16           16.469         0.5\n",
      "6           26           26.989         1.0\n",
      "7           42           44.543         2.5\n",
      "8           68           72.580         4.6\n",
      "9          110          117.571         7.6\n",
      "10         178          191.963        14.0\n",
      "11         288          321.694        33.7\n",
      "12         466          554.667        88.7\n",
      "13         754         1060.980       307.0\n",
      "14        1220         1938.724       718.7\n",
      "15        1974         2993.669      1019.7\n",
      "16        3194         5304.425      2110.4\n",
      "17        5168        10850.222      5682.2\n",
      "18        8362        18822.646     10460.6\n",
      "19       13530        28500.740     14970.7\n",
      "20       21892        52246.039     30354.0\n",
      "21       35422       106941.820     71519.8\n",
      "22       57314       182027.281    124713.3\n",
      "23       92736       277411.000    184675.0\n",
      "24      150050       587363.062    437313.1\n",
      "25      242786      1068992.500    826206.5\n",
      "Units in LSTM layer: 6, MSE is:: 750497.8369\n",
      "Prediction of model with 6:\n",
      "    real value  predicted value  difference\n",
      "0            2            2.000         0.0\n",
      "1            2            2.000         0.0\n",
      "2            4            4.000         0.0\n",
      "3            6            6.000         0.0\n",
      "4           10           10.357         0.4\n",
      "5           16           15.514         0.5\n",
      "6           26           26.515         0.5\n",
      "7           42           42.391         0.4\n",
      "8           68           68.474         0.5\n",
      "9          110          111.124         1.1\n",
      "10         178          180.490         2.5\n",
      "11         288          288.940         0.9\n",
      "12         466          476.546        10.5\n",
      "13         754          765.360        11.4\n",
      "14        1220         1235.232        15.2\n",
      "15        1974         1998.600        24.6\n",
      "16        3194         3245.026        51.0\n",
      "17        5168         5241.921        73.9\n",
      "18        8362         8475.981       114.0\n",
      "19       13530        13721.085       191.1\n",
      "20       21892        22218.074       326.1\n",
      "21       35422        35924.254       502.3\n",
      "22       57314        58123.305       809.3\n",
      "23       92736        94068.938      1332.9\n",
      "24      150050       152222.547      2172.5\n",
      "25      242786       246242.016      3456.0\n",
      "Units in LSTM layer: 7, MSE is:: 357701.7693\n",
      "Prediction of model with 7:\n",
      "    real value  predicted value  difference\n",
      "0            2            2.000         0.0\n",
      "1            2            2.000         0.0\n",
      "2            4            4.000         0.0\n",
      "3            6            6.000         0.0\n",
      "4           10           10.559         0.6\n",
      "5           16           15.942         0.1\n",
      "6           26           26.203         0.2\n",
      "7           42           42.888         0.9\n",
      "8           68           69.065         1.1\n",
      "9          110          112.353         2.4\n",
      "10         178          180.169         2.2\n",
      "11         288          288.831         0.8\n",
      "12         466          471.207         5.2\n",
      "13         754          761.257         7.3\n",
      "14        1220         1231.913        11.9\n",
      "15        1974         1993.062        19.1\n",
      "16        3194         3225.754        31.8\n",
      "17        5168         5218.986        51.0\n",
      "18        8362         8444.773        82.8\n",
      "19       13530        13663.896       133.9\n",
      "20       21892        22108.793       216.8\n",
      "21       35422        35772.516       350.5\n",
      "22       57314        57880.930       566.9\n",
      "23       92736        93652.680       916.7\n",
      "24      150050       151532.203      1482.2\n",
      "25      242786       245182.406      2396.4\n",
      "Units in LSTM layer: 8, MSE is:: 822337.5155\n",
      "Prediction of model with 8:\n",
      "    real value  predicted value  difference\n",
      "0            2            2.000         0.0\n",
      "1            2            2.000         0.0\n",
      "2            4            4.000         0.0\n",
      "3            6            6.000         0.0\n",
      "4           10           10.238         0.2\n",
      "5           16           16.370         0.4\n",
      "6           26           26.284         0.3\n",
      "7           42           42.665         0.7\n",
      "8           68           69.258         1.3\n",
      "9          110          111.897         1.9\n",
      "10         178          180.327         2.3\n",
      "11         288          292.239         4.2\n",
      "12         466          473.187         7.2\n",
      "13         754          764.998        11.0\n",
      "14        1220         1239.221        19.2\n",
      "15        1974         2003.526        29.5\n",
      "16        3194         3241.015        47.0\n",
      "17        5168         5246.884        78.9\n",
      "18        8362         8487.070       125.1\n",
      "19       13530        13731.067       201.1\n",
      "20       21892        22222.385       330.4\n",
      "21       35422        35952.262       530.3\n",
      "22       57314        58169.684       855.7\n",
      "23       92736        94129.602      1393.6\n",
      "24      150050       152297.703      2247.7\n",
      "25      242786       246418.906      3632.9\n",
      "Units in LSTM layer: 9, MSE is:: 19653.1426\n",
      "Prediction of model with 9:\n",
      "    real value  predicted value  difference\n",
      "0            2            2.000         0.0\n",
      "1            2            2.000         0.0\n",
      "2            4            4.000         0.0\n",
      "3            6            6.000         0.0\n",
      "4           10            9.842         0.2\n",
      "5           16           16.084         0.1\n",
      "6           26           26.124         0.1\n",
      "7           42           42.253         0.3\n",
      "8           68           68.146         0.1\n",
      "9          110          110.794         0.8\n",
      "10         178          178.544         0.5\n",
      "11         288          288.213         0.2\n",
      "12         466          467.140         1.1\n",
      "13         754          755.884         1.9\n",
      "14        1220         1222.874         2.9\n",
      "15        1974         1977.949         3.9\n",
      "16        3194         3201.726         7.7\n",
      "17        5168         5180.267        12.3\n",
      "18        8362         8381.227        19.2\n",
      "19       13530        13560.620        30.6\n",
      "20       21892        21943.561        51.6\n",
      "21       35422        35504.430        82.4\n",
      "22       57314        57446.160       132.2\n",
      "23       92736        92949.961       214.0\n",
      "24      150050       150398.703       348.7\n",
      "25      242786       243347.375       561.4\n",
      "Units in LSTM layer: 10, MSE is:: 209653.564\n",
      "Units in LSTM layer: 15, MSE is:: 794678.2065\n",
      "Units in LSTM layer: 20, MSE is:: 99203.4913\n",
      "Units in LSTM layer: 25, MSE is:: 79491.6395\n",
      "Units in LSTM layer: 30, MSE is:: 471420.9055\n",
      "Units in LSTM layer: 35, MSE is:: 150297.8982\n",
      "Units in LSTM layer: 40, MSE is:: 125029.7787\n",
      "Prediction of model with 40:\n",
      "    real value  predicted value  difference\n",
      "0            2            2.000         0.0\n",
      "1            2            2.000         0.0\n",
      "2            4            4.000         0.0\n",
      "3            6            6.000         0.0\n",
      "4           10           10.173         0.2\n",
      "5           16           15.972         0.0\n",
      "6           26           26.025         0.0\n",
      "7           42           42.318         0.3\n",
      "8           68           67.937         0.1\n",
      "9          110          110.241         0.2\n",
      "10         178          179.126         1.1\n",
      "11         288          289.283         1.3\n",
      "12         466          468.140         2.1\n",
      "13         754          758.903         4.9\n",
      "14        1220         1228.221         8.2\n",
      "15        1974         1984.033        10.0\n",
      "16        3194         3211.649        17.6\n",
      "17        5168         5199.712        31.7\n",
      "18        8362         8411.718        49.7\n",
      "19       13530        13605.059        75.1\n",
      "20       21892        22019.350       127.3\n",
      "21       35422        35632.406       210.4\n",
      "22       57314        57646.980       333.0\n",
      "23       92736        93268.258       532.3\n",
      "24      150050       150927.016       877.0\n",
      "25      242786       244206.328      1420.3\n",
      "Units in LSTM layer: 45, MSE is:: 645099.4614\n",
      "Units in LSTM layer: 50, MSE is:: 1273.5504\n",
      "Prediction of model with 50:\n",
      "    real value  predicted value  difference\n",
      "0            2            2.000         0.0\n",
      "1            2            2.000         0.0\n",
      "2            4            4.000         0.0\n",
      "3            6            6.000         0.0\n",
      "4           10           10.034         0.0\n",
      "5           16           15.912         0.1\n",
      "6           26           26.031         0.0\n",
      "7           42           42.044         0.0\n",
      "8           68           68.013         0.0\n",
      "9          110          109.872         0.1\n",
      "10         178          177.893         0.1\n",
      "11         288          287.946         0.1\n",
      "12         466          465.661         0.3\n",
      "13         754          753.574         0.4\n",
      "14        1220         1219.300         0.7\n",
      "15        1974         1972.806         1.2\n",
      "16        3194         3192.012         2.0\n",
      "17        5168         5164.582         3.4\n",
      "18        8362         8356.456         5.5\n",
      "19       13530        13521.135         8.9\n",
      "20       21892        21877.787        14.2\n",
      "21       35422        35399.371        22.6\n",
      "22       57314        57278.215        35.8\n",
      "23       92736        92679.414        56.6\n",
      "24      150050       149960.656        89.3\n",
      "25      242786       242645.266       140.7\n",
      "Units in LSTM layer: 55, MSE is:: 943749.7862\n",
      "Units in LSTM layer: 60, MSE is:: 680261.0638\n"
     ]
    }
   ],
   "source": [
    "units_number = list(range(1, 11)) + list(range(15, 65, 5))\n",
    "losses = []\n",
    "min_loss = None\n",
    "min_unit = None\n",
    "\n",
    "for unit in units_number: \n",
    "    model = Sequential()\n",
    "    model.add(LSTM(unit, activation='softplus', return_sequences=True, input_shape=(n_steps, 1)))\n",
    "    model.add(LSTM(unit, activation='softplus'))\n",
    "    model.add(Dense(1))\n",
    "    model.compile(optimizer='adam', loss='mse')\n",
    "\n",
    "    model.fit(X_train, y_train, epochs=800, validation_split=0.2, verbose=0)\n",
    "    \n",
    "    predict_y = predict(sequence, model)\n",
    "    mse = mean_squared_error(sequence, predict_y)\n",
    "\n",
    "    if min_loss is None or mse < min_loss:\n",
    "        min_unit = unit\n",
    "        min_loss = mse\n",
    "        best_model = model\n",
    "    losses.append(mse)\n",
    "    \n",
    "    print(f'Units in LSTM layer: {unit}, MSE is:: {np.round(mse, 4)}')\n",
    "    if unit in (5, 6, 7, 8, 9, 40, 50):\n",
    "        plot_difference(sequence, predict_y, unit)"
   ]
  },
  {
   "cell_type": "markdown",
   "metadata": {
    "colab_type": "text",
    "id": "NoZCRkoK5uqv"
   },
   "source": [
    "# **Testing best model performance**"
   ]
  },
  {
   "cell_type": "code",
   "execution_count": 0,
   "metadata": {
    "colab": {
     "base_uri": "https://localhost:8080/",
     "height": 532
    },
    "colab_type": "code",
    "id": "XAFdTNmJiBfi",
    "outputId": "6b860870-616a-48d0-d30b-e07b8168e5c2"
   },
   "outputs": [
    {
     "name": "stdout",
     "output_type": "stream",
     "text": [
      "mse is 74231.00849568703\n",
      "Prediction of model with 50:\n",
      "    real value  predicted value  difference\n",
      "0            0            0.000         0.0\n",
      "1            1            1.000         0.0\n",
      "2            1            1.000         0.0\n",
      "3            2            2.000         0.0\n",
      "4            3            2.945         0.1\n",
      "5            5            4.928         0.1\n",
      "6            8            7.876         0.1\n",
      "7           13           12.806         0.2\n",
      "8           21           20.693         0.3\n",
      "9           34           33.504         0.5\n",
      "10          55           54.237         0.8\n",
      "11          89           87.791         1.2\n",
      "12         144          141.876         2.1\n",
      "13         233          229.632         3.4\n",
      "14         377          371.694         5.3\n",
      "15         610          601.046         9.0\n",
      "16         987          972.434        14.6\n",
      "17        1597         1574.029        23.0\n",
      "18        2584         2546.520        37.5\n",
      "19        4181         4119.783        61.2\n",
      "20        6765         6666.319        98.7\n",
      "21       10946        10786.473       159.5\n",
      "22       17711        17452.521       258.5\n",
      "23       28657        28239.209       417.8\n",
      "24       46368        45692.887       675.1\n",
      "25       75025        73933.367      1091.6\n"
     ]
    }
   ],
   "source": [
    "sequence = fibonacci(start=(0, 1), num=25)\n",
    "predict_y = predict(sequence, best_model)\n",
    "mse = mean_squared_error(sequence, predict_y)\n",
    "print(f'mse is {mse}')\n",
    "plot_difference(sequence, predict_y, min_unit)"
   ]
  },
  {
   "cell_type": "code",
   "execution_count": 0,
   "metadata": {
    "colab": {
     "base_uri": "https://localhost:8080/",
     "height": 532
    },
    "colab_type": "code",
    "id": "p_rzDtDj5gjA",
    "outputId": "c017d799-4bd5-40a9-ca1e-61e7feb1e597"
   },
   "outputs": [
    {
     "name": "stdout",
     "output_type": "stream",
     "text": [
      "mse is 3093.770385513009\n",
      "Prediction of model with 50:\n",
      "    real value  predicted value  difference\n",
      "0            4            4.000         0.0\n",
      "1            5            5.000         0.0\n",
      "2            9            9.000         0.0\n",
      "3           14           14.000         0.0\n",
      "4           23           23.007         0.0\n",
      "5           37           37.017         0.0\n",
      "6           60           60.034         0.0\n",
      "7           97           97.038         0.0\n",
      "8          157          156.852         0.1\n",
      "9          254          253.927         0.1\n",
      "10         411          410.853         0.1\n",
      "11         665          664.877         0.1\n",
      "12        1076         1075.351         0.6\n",
      "13        1741         1740.231         0.8\n",
      "14        2817         2815.936         1.1\n",
      "15        4558         4555.651         2.3\n",
      "16        7375         7371.206         3.8\n",
      "17       11933        11927.281         5.7\n",
      "18       19308        19298.604         9.4\n",
      "19       31241        31225.939        15.1\n",
      "20       50549        50525.633        23.4\n",
      "21       81790        81753.312        36.7\n",
      "22      132339       132281.312        57.7\n",
      "23      214129       214039.188        89.8\n",
      "24      346468       346328.250       139.8\n",
      "25      560597       560379.625       217.4\n"
     ]
    }
   ],
   "source": [
    "sequence = fibonacci(start=(4, 5), num=25)\n",
    "predict_y = predict(sequence, best_model)\n",
    "mse = mean_squared_error(sequence, predict_y)\n",
    "print(f'mse is {mse}')\n",
    "plot_difference(sequence, predict_y, min_unit)"
   ]
  },
  {
   "cell_type": "code",
   "execution_count": 0,
   "metadata": {
    "colab": {
     "base_uri": "https://localhost:8080/",
     "height": 532
    },
    "colab_type": "code",
    "id": "dNSxRbTM5lVD",
    "outputId": "a476e5c8-de61-4dd9-8f60-6852d860240d"
   },
   "outputs": [
    {
     "name": "stdout",
     "output_type": "stream",
     "text": [
      "mse is 2605.724642146611\n",
      "Prediction of model with 50:\n",
      "    real value  predicted value  difference\n",
      "0            3            3.000         0.0\n",
      "1            3            3.000         0.0\n",
      "2            6            6.000         0.0\n",
      "3            9            9.000         0.0\n",
      "4           15           14.972         0.0\n",
      "5           24           23.986         0.0\n",
      "6           39           39.057         0.1\n",
      "7           63           62.993         0.0\n",
      "8          102          101.936         0.1\n",
      "9          165          164.773         0.2\n",
      "10         267          267.051         0.1\n",
      "11         432          431.724         0.3\n",
      "12         699          698.600         0.4\n",
      "13        1131         1130.325         0.7\n",
      "14        1830         1828.954         1.0\n",
      "15        2961         2959.244         1.8\n",
      "16        4791         4787.868         3.1\n",
      "17        7752         7746.966         5.0\n",
      "18       12543        12534.983         8.0\n",
      "19       20295        20282.064        12.9\n",
      "20       32838        32817.402        20.6\n",
      "21       53133        53100.488        32.5\n",
      "22       85971        85919.562        51.4\n",
      "23      139104       139022.781        81.2\n",
      "24      225075       224947.172       127.8\n",
      "25      364179       363977.969       201.0\n"
     ]
    }
   ],
   "source": [
    "sequence = fibonacci(start=(3, 3), num=25)\n",
    "predict_y = predict(sequence, best_model)\n",
    "mse = mean_squared_error(sequence, predict_y)\n",
    "print(f'mse is {mse}')\n",
    "plot_difference(sequence, predict_y, min_unit)"
   ]
  }
 ],
 "metadata": {
  "colab": {
   "collapsed_sections": [],
   "name": "Copy of Fibonacci sequence (p=2).ipynb",
   "provenance": []
  },
  "kernelspec": {
   "display_name": "Python 3",
   "language": "python",
   "name": "python3"
  },
  "language_info": {
   "codemirror_mode": {
    "name": "ipython",
    "version": 3
   },
   "file_extension": ".py",
   "mimetype": "text/x-python",
   "name": "python",
   "nbconvert_exporter": "python",
   "pygments_lexer": "ipython3",
   "version": "3.7.1"
  }
 },
 "nbformat": 4,
 "nbformat_minor": 1
}
