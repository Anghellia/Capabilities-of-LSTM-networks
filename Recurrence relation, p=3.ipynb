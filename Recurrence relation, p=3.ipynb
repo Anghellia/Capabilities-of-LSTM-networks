{
 "cells": [
  {
   "cell_type": "code",
   "execution_count": 2,
   "metadata": {
    "colab": {
     "base_uri": "https://localhost:8080/",
     "height": 35
    },
    "colab_type": "code",
    "id": "brTA-k9MBeVU",
    "outputId": "2acf4ffe-e205-440e-a88d-778a2f4bb3c2"
   },
   "outputs": [],
   "source": [
    "# Импортируем библиотеки\n",
    "\n",
    "import numpy as np \n",
    "import pandas as pd\n",
    "import matplotlib.pyplot as plt\n",
    "from tensorflow.keras.models import Sequential\n",
    "from tensorflow.keras.layers import LSTM\n",
    "from tensorflow.keras.layers import Dense\n",
    "from sklearn.metrics import mean_squared_error"
   ]
  },
  {
   "cell_type": "code",
   "execution_count": 0,
   "metadata": {
    "colab": {},
    "colab_type": "code",
    "id": "nsRnuPkDBhnb"
   },
   "outputs": [],
   "source": [
    "def split_sequence(sequence, n_steps):\n",
    "    n = len(sequence)\n",
    "    X, y = list(), list()\n",
    "    for i in range(n):\n",
    "        end_ix = i + n_steps\n",
    "        if end_ix > n-1:\n",
    "            break\n",
    "        seq_x, seq_y = sequence[i:end_ix], sequence[end_ix]\n",
    "        X.append(seq_x)\n",
    "        y.append(seq_y)\n",
    "    return np.array(X), np.array(y)"
   ]
  },
  {
   "cell_type": "code",
   "execution_count": 0,
   "metadata": {
    "colab": {},
    "colab_type": "code",
    "id": "z_d7XPCl9uYL"
   },
   "outputs": [],
   "source": [
    "def plot_difference(true_sequence, predict_values, unit):\n",
    "    print(f'Prediction of model with {unit} units:')\n",
    "    df = pd.DataFrame({'real value': true_sequence, 'predicted value': np.round(predict_values, 3), 'difference': np.round(abs(true_sequence-predict_values), 1)})\n",
    "    with pd.option_context('display.max_rows', None, 'display.max_columns', None):\n",
    "        print(df)"
   ]
  },
  {
   "cell_type": "markdown",
   "metadata": {
    "colab_type": "text",
    "id": "mAsAPMA8gaHY"
   },
   "source": [
    "# **Data generation**"
   ]
  },
  {
   "cell_type": "markdown",
   "metadata": {
    "colab_type": "text",
    "id": "bjKkVq0slAYk"
   },
   "source": [
    "$a_n = a_{n-3} + a_{n-2} + 2*a_{n-1}$"
   ]
  },
  {
   "cell_type": "code",
   "execution_count": 3,
   "metadata": {
    "colab": {},
    "colab_type": "code",
    "id": "BvV05Wvu-D-x"
   },
   "outputs": [],
   "source": [
    "def data(start=(0, 1, 1), num=10):\n",
    "    x = [start[0], start[1], start[2]]\n",
    "    for i in range(3, num+1):\n",
    "        x.append(2*x[i-1] + x[i-2] + x[i-3])\n",
    "    return np.array(x)"
   ]
  },
  {
   "cell_type": "code",
   "execution_count": 0,
   "metadata": {
    "colab": {},
    "colab_type": "code",
    "id": "T_HCtSs84KqJ"
   },
   "outputs": [],
   "source": [
    "def generate_data(n_steps=4):\n",
    "    \n",
    "    num = 15\n",
    "    batch_size = 1000\n",
    "    i = 0\n",
    "    \n",
    "    X = np.empty((batch_size, n_steps))\n",
    "    y = np.empty((batch_size, 1))\n",
    "\n",
    "    while i < batch_size:\n",
    "\n",
    "        start_val = np.random.randint(0, 10, (3, ))\n",
    "    \n",
    "        array = data(start=(start_val[0], start_val[1], start_val[2]), num=num)\n",
    "        j = 0\n",
    "\n",
    "        while j <= num - (n_steps + 1):\n",
    "            if i >= batch_size: break\n",
    "            X[i, :] = array[j:n_steps+j]\n",
    "            y[i, :] = array[j+n_steps] \n",
    "            i += 1\n",
    "            j += 1\n",
    "        \n",
    "    _, index = np.unique(X, axis=0, return_index=True)\n",
    "    X, y = X[index], y[index]\n",
    "    X = X.reshape((X.shape[0], X.shape[1], 1))\n",
    "    return X, y"
   ]
  },
  {
   "cell_type": "code",
   "execution_count": 0,
   "metadata": {
    "colab": {
     "base_uri": "https://localhost:8080/",
     "height": 52
    },
    "colab_type": "code",
    "id": "ZxsSYkITkmLj",
    "outputId": "ef1c03a3-9867-4c4b-b6e1-85991a9a58cc"
   },
   "outputs": [
    {
     "name": "stdout",
     "output_type": "stream",
     "text": [
      "X_train shape is (965, 6, 1)\n",
      "y_train shape is (965, 1)\n"
     ]
    }
   ],
   "source": [
    "n_steps = 6\n",
    "X_train, y_train = generate_data(n_steps)\n",
    "print(f'X_train shape is {X_train.shape}')\n",
    "print(f'y_train shape is {y_train.shape}')"
   ]
  },
  {
   "cell_type": "markdown",
   "metadata": {
    "colab_type": "text",
    "id": "W18N19mph1Rx"
   },
   "source": [
    "## **Model with one LSTM layer**"
   ]
  },
  {
   "cell_type": "code",
   "execution_count": 0,
   "metadata": {
    "colab": {},
    "colab_type": "code",
    "id": "bLtcQELn-UZN"
   },
   "outputs": [],
   "source": [
    "def predict(true_sequence, model):\n",
    "    predict_values = true_sequence[:n_steps]\n",
    "    k = n_steps\n",
    "    length = true_sequence.size\n",
    "    while k != length:\n",
    "        X = predict_values[-n_steps::]\n",
    "        X = X.reshape((1, n_steps, 1))\n",
    "        f_x = model.predict(X, verbose=0) \n",
    "        predict_values = np.append(predict_values, f_x)\n",
    "        k += 1\n",
    "    return predict_values"
   ]
  },
  {
   "cell_type": "code",
   "execution_count": 0,
   "metadata": {
    "colab": {},
    "colab_type": "code",
    "id": "Et5WoaFM-VYX"
   },
   "outputs": [],
   "source": [
    "sequence = data(start=(1, 3, 2), num=15)"
   ]
  },
  {
   "cell_type": "code",
   "execution_count": 0,
   "metadata": {
    "colab": {
     "base_uri": "https://localhost:8080/",
     "height": 1000
    },
    "colab_type": "code",
    "id": "g9r8hz6O9qXR",
    "outputId": "69631042-6bd3-4626-c6c4-b3821700b489"
   },
   "outputs": [
    {
     "name": "stdout",
     "output_type": "stream",
     "text": [
      "Units in LSTM layer: 1, MSE is: 26583466125.9725\n",
      "Units in LSTM layer: 2, MSE is: 3167051.8795\n",
      "Units in LSTM layer: 3, MSE is: 6366210.4932\n",
      "Units in LSTM layer: 4, MSE is: 7303244.7909\n",
      "Units in LSTM layer: 5, MSE is: 7967404.153\n",
      "Prediction of model with 5 units:\n",
      "    real value  predicted value  difference\n",
      "0            1            1.000         0.0\n",
      "1            3            3.000         0.0\n",
      "2            2            2.000         0.0\n",
      "3            8            8.000         0.0\n",
      "4           21           21.000         0.0\n",
      "5           52           52.000         0.0\n",
      "6          133          126.830         6.2\n",
      "7          339          328.512        10.5\n",
      "8          863          859.055         3.9\n",
      "9         2198         2160.840        37.2\n",
      "10        5598         5488.157       109.8\n",
      "11       14257        13889.817       367.2\n",
      "12       36310        35537.988       772.0\n",
      "13       92475        90726.508      1748.5\n",
      "14      235517       231305.422      4211.6\n",
      "15      599819       589526.312     10292.7\n",
      "Units in LSTM layer: 6, MSE is: 3756798.4141\n",
      "Prediction of model with 6 units:\n",
      "    real value  predicted value  difference\n",
      "0            1            1.000         0.0\n",
      "1            3            3.000         0.0\n",
      "2            2            2.000         0.0\n",
      "3            8            8.000         0.0\n",
      "4           21           21.000         0.0\n",
      "5           52           52.000         0.0\n",
      "6          133          136.857         3.9\n",
      "7          339          342.943         3.9\n",
      "8          863          866.808         3.8\n",
      "9         2198         2242.060        44.1\n",
      "10        5598         5658.765        60.8\n",
      "11       14257        14440.215       183.2\n",
      "12       36310        36814.375       504.4\n",
      "13       92475        93530.203      1055.2\n",
      "14      235517       238173.125      2656.1\n",
      "15      599819       607005.562      7186.6\n",
      "Units in LSTM layer: 7, MSE is: 814338.082\n",
      "Prediction of model with 7 units:\n",
      "    real value  predicted value  difference\n",
      "0            1            1.000         0.0\n",
      "1            3            3.000         0.0\n",
      "2            2            2.000         0.0\n",
      "3            8            8.000         0.0\n",
      "4           21           21.000         0.0\n",
      "5           52           52.000         0.0\n",
      "6          133          136.737         3.7\n",
      "7          339          340.491         1.5\n",
      "8          863          871.624         8.6\n",
      "9         2198         2217.354        19.4\n",
      "10        5598         5618.183        20.2\n",
      "11       14257        14474.715       217.7\n",
      "12       36310        36607.738       297.7\n",
      "13       92475        93060.781       585.8\n",
      "14      235517       236940.453      1423.5\n",
      "15      599819       603062.938      3243.9\n",
      "Units in LSTM layer: 8, MSE is: 1353748.2059\n",
      "Prediction of model with 8 units:\n",
      "    real value  predicted value  difference\n",
      "0            1            1.000         0.0\n",
      "1            3            3.000         0.0\n",
      "2            2            2.000         0.0\n",
      "3            8            8.000         0.0\n",
      "4           21           21.000         0.0\n",
      "5           52           52.000         0.0\n",
      "6          133          135.175         2.2\n",
      "7          339          339.998         1.0\n",
      "8          863          870.408         7.4\n",
      "9         2198         2209.471        11.5\n",
      "10        5598         5650.357        52.4\n",
      "11       14257        14343.837        86.8\n",
      "12       36310        36581.770       271.8\n",
      "13       92475        93131.531       656.5\n",
      "14      235517       237231.016      1714.0\n",
      "15      599819       604085.938      4266.9\n",
      "Units in LSTM layer: 9, MSE is: 680324.3683\n",
      "Prediction of model with 9 units:\n",
      "    real value  predicted value  difference\n",
      "0            1            1.000         0.0\n",
      "1            3            3.000         0.0\n",
      "2            2            2.000         0.0\n",
      "3            8            8.000         0.0\n",
      "4           21           21.000         0.0\n",
      "5           52           52.000         0.0\n",
      "6          133          130.365         2.6\n",
      "7          339          341.180         2.2\n",
      "8          863          871.468         8.5\n",
      "9         2198         2256.232        58.2\n",
      "10        5598         5576.707        21.3\n",
      "11       14257        14149.740       107.3\n",
      "12       36310        36572.133       262.1\n",
      "13       92475        93170.734       695.7\n",
      "14      235517       237332.531      1815.5\n",
      "15      599819       602468.688      2649.7\n",
      "Units in LSTM layer: 10, MSE is: 5165837.8164\n",
      "Units in LSTM layer: 15, MSE is: 591119.8861\n",
      "Units in LSTM layer: 20, MSE is: 360150.9595\n",
      "Units in LSTM layer: 25, MSE is: 630449.853\n",
      "Units in LSTM layer: 30, MSE is: 3259143.4616\n",
      "Units in LSTM layer: 35, MSE is: 45667.9059\n",
      "Units in LSTM layer: 40, MSE is: 177241.3053\n",
      "Prediction of model with 40 units:\n",
      "    real value  predicted value  difference\n",
      "0            1            1.000         0.0\n",
      "1            3            3.000         0.0\n",
      "2            2            2.000         0.0\n",
      "3            8            8.000         0.0\n",
      "4           21           21.000         0.0\n",
      "5           52           52.000         0.0\n",
      "6          133          133.965         1.0\n",
      "7          339          340.069         1.1\n",
      "8          863          864.636         1.6\n",
      "9         2198         2205.323         7.3\n",
      "10        5598         5625.360        27.4\n",
      "11       14257        14291.038        34.0\n",
      "12       36310        36433.598       123.6\n",
      "13       92475        92794.758       319.8\n",
      "14      235517       236187.984       671.0\n",
      "15      599819       601324.375      1505.4\n",
      "Units in LSTM layer: 45, MSE is: 159571.8948\n",
      "Units in LSTM layer: 50, MSE is: 279.5581\n",
      "Prediction of model with 50 units:\n",
      "    real value  predicted value  difference\n",
      "0            1            1.000         0.0\n",
      "1            3            3.000         0.0\n",
      "2            2            2.000         0.0\n",
      "3            8            8.000         0.0\n",
      "4           21           21.000         0.0\n",
      "5           52           52.000         0.0\n",
      "6          133          133.186         0.2\n",
      "7          339          339.579         0.6\n",
      "8          863          861.638         1.4\n",
      "9         2198         2197.003         1.0\n",
      "10        5598         5597.482         0.5\n",
      "11       14257        14255.203         1.8\n",
      "12       36310        36342.410        32.4\n",
      "13       92475        92530.203        55.2\n",
      "14      235517       235536.188        19.2\n",
      "15      599819       599818.500         0.5\n",
      "Units in LSTM layer: 55, MSE is: 6543762.5553\n",
      "Units in LSTM layer: 60, MSE is: 522331.3455\n"
     ]
    }
   ],
   "source": [
    "units_number = list(range(1, 11)) + list(range(15, 65, 5))\n",
    "losses = []\n",
    "min_loss = None\n",
    "min_unit = None\n",
    "\n",
    "for unit in units_number: \n",
    "    model = Sequential()\n",
    "    model.add(LSTM(unit, activation='softplus', input_shape=(n_steps, 1)))\n",
    "    model.add(Dense(1))\n",
    "    model.compile(optimizer='adam', loss='mse')\n",
    "\n",
    "    model.fit(X_train, y_train, epochs=600, validation_split=0.2, verbose=0)\n",
    "    \n",
    "    predict_y = predict(sequence, model)\n",
    "    mse = mean_squared_error(sequence, predict_y)\n",
    "\n",
    "    if min_loss is None or mse < min_loss:\n",
    "        min_unit = unit\n",
    "        min_loss = mse\n",
    "        best_model = model\n",
    "    losses.append(mse)\n",
    "    \n",
    "    print(f'Units in LSTM layer: {unit}, MSE is: {np.round(mse, 4)}')\n",
    "    if unit in (5, 6, 7, 8, 9, 40, 50):\n",
    "        plot_difference(sequence, predict_y, unit)"
   ]
  },
  {
   "cell_type": "markdown",
   "metadata": {
    "colab_type": "text",
    "id": "HulCG2hd7bUi"
   },
   "source": [
    "# **Testing best model performance**"
   ]
  },
  {
   "cell_type": "markdown",
   "metadata": {
    "colab_type": "text",
    "id": "x_dwl-gK7xqM"
   },
   "source": [
    "Пусть $a_0=2, a_1=3, a_2=3 $"
   ]
  },
  {
   "cell_type": "code",
   "execution_count": 0,
   "metadata": {
    "colab": {
     "base_uri": "https://localhost:8080/",
     "height": 355
    },
    "colab_type": "code",
    "id": "xhAePVqR6iMA",
    "outputId": "8a1fe5a8-0ff6-4cf9-9af0-191bbfab5ea5"
   },
   "outputs": [
    {
     "name": "stdout",
     "output_type": "stream",
     "text": [
      "mse is 10195.098236567865\n",
      "Prediction of model with 50 units:\n",
      "    real value  predicted value  difference\n",
      "0            2            2.000         0.0\n",
      "1            3            3.000         0.0\n",
      "2            3            3.000         0.0\n",
      "3           11           11.000         0.0\n",
      "4           28           28.000         0.0\n",
      "5           70           70.000         0.0\n",
      "6          179          179.329         0.3\n",
      "7          456          455.122         0.9\n",
      "8         1161         1160.398         0.6\n",
      "9         2957         2954.723         2.3\n",
      "10        7531         7521.495         9.5\n",
      "11       19180        19188.176         8.2\n",
      "12       48848        48860.109        12.1\n",
      "13      124407       124413.656         6.7\n",
      "14      316842       316738.719       103.3\n",
      "15      806939       806549.000       390.0\n"
     ]
    }
   ],
   "source": [
    "sequence = data(start=(2, 3, 3), num=15)\n",
    "predict_y = predict(sequence, best_model)\n",
    "mse = mean_squared_error(sequence, predict_y)\n",
    "print(f'mse is {mse}')\n",
    "plot_difference(sequence, predict_y, min_unit)"
   ]
  },
  {
   "cell_type": "markdown",
   "metadata": {
    "colab_type": "text",
    "id": "pILmH9Lu77E_"
   },
   "source": [
    "Пусть $a_0=1, a_1=1, a_2=1$"
   ]
  },
  {
   "cell_type": "code",
   "execution_count": 0,
   "metadata": {
    "colab": {
     "base_uri": "https://localhost:8080/",
     "height": 444
    },
    "colab_type": "code",
    "id": "G7W2bLsZ_L-L",
    "outputId": "f3e8646b-fced-4b57-d21c-4db33210de4c"
   },
   "outputs": [
    {
     "name": "stdout",
     "output_type": "stream",
     "text": [
      "mse is 8670890.65043752\n",
      "Prediction of model with 50 units:\n",
      "    real value  predicted value  difference\n",
      "0            1     1.000000e+00         0.0\n",
      "1            1     1.000000e+00         0.0\n",
      "2            1     1.000000e+00         0.0\n",
      "3            4     4.000000e+00         0.0\n",
      "4           10     1.000000e+01         0.0\n",
      "5           25     2.500000e+01         0.0\n",
      "6           64     6.409000e+01         0.1\n",
      "7          163     1.638020e+02         0.8\n",
      "8          415     4.151370e+02         0.1\n",
      "9         1057     1.057270e+03         0.3\n",
      "10        2692     2.690704e+03         1.3\n",
      "11        6856     6.853827e+03         2.2\n",
      "12       17461     1.749903e+04        38.0\n",
      "13       44470     4.454496e+04        75.0\n",
      "14      113257     1.133921e+05       135.1\n",
      "15      288445     2.886774e+05       232.4\n",
      "16      734617     7.351466e+05       529.6\n",
      "17     1870936     1.872456e+06      1520.5\n",
      "18     4764934     4.768582e+06      3647.5\n",
      "19    12135421     1.214184e+07      6416.0\n",
      "20    30906712     3.091789e+07     11178.0\n"
     ]
    }
   ],
   "source": [
    "sequence = data(start=(1, 1, 1), num=20)\n",
    "predict_y = predict(sequence, best_model)\n",
    "mse = mean_squared_error(sequence, predict_y)\n",
    "print(f'mse is {mse}')\n",
    "plot_difference(sequence, predict_y, min_unit)"
   ]
  },
  {
   "cell_type": "code",
   "execution_count": 0,
   "metadata": {
    "colab": {
     "base_uri": "https://localhost:8080/",
     "height": 355
    },
    "colab_type": "code",
    "id": "lfHI29TbMAxY",
    "outputId": "a08887db-5eab-4172-fdbe-0b749329e3d2"
   },
   "outputs": [
    {
     "name": "stdout",
     "output_type": "stream",
     "text": [
      "mse is 125717.42158397782\n",
      "Prediction of model with 50 units:\n",
      "    real value  predicted value  difference\n",
      "0            6            6.000         0.0\n",
      "1            2            2.000         0.0\n",
      "2            6            6.000         0.0\n",
      "3           20           20.000         0.0\n",
      "4           48           48.000         0.0\n",
      "5          122          122.000         0.0\n",
      "6          312          311.277         0.7\n",
      "7          794          792.192         1.8\n",
      "8         2022         2020.158         1.8\n",
      "9         5150         5148.531         1.5\n",
      "10       13116        13101.656        14.3\n",
      "11       33404        33387.898        16.1\n",
      "12       85074        85045.719        28.3\n",
      "13      216668       216529.188       138.8\n",
      "14      551814       551374.312       439.7\n",
      "15     1405370      1404029.250      1340.8\n"
     ]
    }
   ],
   "source": [
    "sequence = data(start=(6, 2, 6), num=15)\n",
    "predict_y = predict(sequence, best_model)\n",
    "mse = mean_squared_error(sequence, predict_y)\n",
    "print(f'mse is {mse}')\n",
    "plot_difference(sequence, predict_y, min_unit)"
   ]
  },
  {
   "cell_type": "markdown",
   "metadata": {
    "colab_type": "text",
    "id": "gtXhNUoKnCar"
   },
   "source": [
    "# **Model with two LSTM layers**"
   ]
  },
  {
   "cell_type": "code",
   "execution_count": 0,
   "metadata": {
    "colab": {
     "base_uri": "https://localhost:8080/",
     "height": 1000
    },
    "colab_type": "code",
    "id": "dqnkst6DNKo5",
    "outputId": "ee313bf4-3ec5-43e8-f17c-39c3edd7b9ca"
   },
   "outputs": [
    {
     "name": "stdout",
     "output_type": "stream",
     "text": [
      "WARNING:tensorflow:From /tensorflow-1.15.2/python3.6/tensorflow_core/python/ops/resource_variable_ops.py:1630: calling BaseResourceVariable.__init__ (from tensorflow.python.ops.resource_variable_ops) with constraint is deprecated and will be removed in a future version.\n",
      "Instructions for updating:\n",
      "If using Keras pass *_constraint arguments to layers.\n",
      "WARNING:tensorflow:From /tensorflow-1.15.2/python3.6/tensorflow_core/python/ops/math_grad.py:1424: where (from tensorflow.python.ops.array_ops) is deprecated and will be removed in a future version.\n",
      "Instructions for updating:\n",
      "Use tf.where in 2.0, which has the same broadcast rule as np.where\n",
      "Units in LSTM layer: 1, MSE is: 757258475.31\n",
      "Units in LSTM layer: 2, MSE is: 3577867.6925\n",
      "Units in LSTM layer: 3, MSE is: 5863140.3093\n",
      "Units in LSTM layer: 4, MSE is: 226197.2031\n",
      "Units in LSTM layer: 5, MSE is: 5622365.3714\n",
      "Prediction of model with 5 units:\n",
      "    real value  predicted value  difference\n",
      "0            1            1.000         0.0\n",
      "1            3            3.000         0.0\n",
      "2            2            2.000         0.0\n",
      "3            8            8.000         0.0\n",
      "4           21           21.000         0.0\n",
      "5           52           52.000         0.0\n",
      "6          133          126.819         6.2\n",
      "7          339          335.286         3.7\n",
      "8          863          848.888        14.1\n",
      "9         2198         2174.811        23.2\n",
      "10        5598         5514.600        83.4\n",
      "11       14257        14009.901       247.1\n",
      "12       36310        35696.160       613.8\n",
      "13       92475        91229.977      1245.0\n",
      "14      235517       232074.672      3442.3\n",
      "15      599819       591094.750      8724.2\n",
      "Units in LSTM layer: 6, MSE is: 546873.1893\n",
      "Prediction of model with 6 units:\n",
      "    real value  predicted value  difference\n",
      "0            1            1.000         0.0\n",
      "1            3            3.000         0.0\n",
      "2            2            2.000         0.0\n",
      "3            8            8.000         0.0\n",
      "4           21           21.000         0.0\n",
      "5           52           52.000         0.0\n",
      "6          133          144.368        11.4\n",
      "7          339          345.461         6.5\n",
      "8          863          860.150         2.9\n",
      "9         2198         2178.126        19.9\n",
      "10        5598         5634.486        36.5\n",
      "11       14257        14384.395       127.4\n",
      "12       36310        36516.480       206.5\n",
      "13       92475        92783.062       308.1\n",
      "14      235517       236407.562       890.6\n",
      "15      599819       602612.062      2793.1\n",
      "Units in LSTM layer: 7, MSE is: 13248570.8859\n",
      "Prediction of model with 7 units:\n",
      "    real value  predicted value  difference\n",
      "0            1            1.000         0.0\n",
      "1            3            3.000         0.0\n",
      "2            2            2.000         0.0\n",
      "3            8            8.000         0.0\n",
      "4           21           21.000         0.0\n",
      "5           52           52.000         0.0\n",
      "6          133          137.529         4.5\n",
      "7          339          350.307        11.3\n",
      "8          863          851.351        11.6\n",
      "9         2198         2308.746       110.7\n",
      "10        5598         5697.721        99.7\n",
      "11       14257        14559.260       302.3\n",
      "12       36310        37063.492       753.5\n",
      "13       92475        94555.250      2080.2\n",
      "14      235517       240924.328      5407.3\n",
      "15      599819       613150.500     13331.5\n",
      "Units in LSTM layer: 8, MSE is: 1709507.6907\n",
      "Prediction of model with 8 units:\n",
      "    real value  predicted value  difference\n",
      "0            1            1.000         0.0\n",
      "1            3            3.000         0.0\n",
      "2            2            2.000         0.0\n",
      "3            8            8.000         0.0\n",
      "4           21           21.000         0.0\n",
      "5           52           52.000         0.0\n",
      "6          133          132.240         0.8\n",
      "7          339          335.771         3.2\n",
      "8          863          863.899         0.9\n",
      "9         2198         2180.896        17.1\n",
      "10        5598         5534.161        63.8\n",
      "11       14257        14157.133        99.9\n",
      "12       36310        36055.152       254.8\n",
      "13       92475        91805.984       669.0\n",
      "14      235517       233633.484      1883.5\n",
      "15      599819       594994.312      4824.7\n",
      "Units in LSTM layer: 9, MSE is: 9851196.9729\n",
      "Prediction of model with 9 units:\n",
      "    real value  predicted value  difference\n",
      "0            1            1.000         0.0\n",
      "1            3            3.000         0.0\n",
      "2            2            2.000         0.0\n",
      "3            8            8.000         0.0\n",
      "4           21           21.000         0.0\n",
      "5           52           52.000         0.0\n",
      "6          133          127.265         5.7\n",
      "7          339          333.379         5.6\n",
      "8          863          849.303        13.7\n",
      "9         2198         2166.631        31.4\n",
      "10        5598         5495.458       102.5\n",
      "11       14257        13978.313       278.7\n",
      "12       36310        35600.512       709.5\n",
      "13       92475        90827.219      1647.8\n",
      "14      235517       231099.781      4417.2\n",
      "15      599819       588208.688     11610.3\n",
      "Units in LSTM layer: 10, MSE is: 31274548.1751\n",
      "Units in LSTM layer: 15, MSE is: 2941931.7006\n",
      "Units in LSTM layer: 20, MSE is: 462452.6877\n",
      "Units in LSTM layer: 25, MSE is: 355680.4206\n",
      "Units in LSTM layer: 30, MSE is: 238327.0334\n",
      "Units in LSTM layer: 35, MSE is: 264269.538\n",
      "Units in LSTM layer: 40, MSE is: 1120291.0992\n",
      "Prediction of model with 40 units:\n",
      "    real value  predicted value  difference\n",
      "0            1            1.000         0.0\n",
      "1            3            3.000         0.0\n",
      "2            2            2.000         0.0\n",
      "3            8            8.000         0.0\n",
      "4           21           21.000         0.0\n",
      "5           52           52.000         0.0\n",
      "6          133          132.759         0.2\n",
      "7          339          336.077         2.9\n",
      "8          863          857.381         5.6\n",
      "9         2198         2190.306         7.7\n",
      "10        5598         5549.908        48.1\n",
      "11       14257        14165.199        91.8\n",
      "12       36310        36076.820       233.2\n",
      "13       92475        91835.125       639.9\n",
      "14      235517       233868.703      1648.3\n",
      "15      599819       595980.625      3838.4\n",
      "Units in LSTM layer: 45, MSE is: 32463.7309\n",
      "Units in LSTM layer: 50, MSE is: 129870.9027\n",
      "Prediction of model with 50 units:\n",
      "    real value  predicted value  difference\n",
      "0            1            1.000         0.0\n",
      "1            3            3.000         0.0\n",
      "2            2            2.000         0.0\n",
      "3            8            8.000         0.0\n",
      "4           21           21.000         0.0\n",
      "5           52           52.000         0.0\n",
      "6          133          134.138         1.1\n",
      "7          339          337.665         1.3\n",
      "8          863          862.310         0.7\n",
      "9         2198         2199.179         1.2\n",
      "10        5598         5580.123        17.9\n",
      "11       14257        14237.904        19.1\n",
      "12       36310        36313.465         3.5\n",
      "13       92475        92314.234       160.8\n",
      "14      235517       235166.875       350.1\n",
      "15      599819       598430.188      1388.8\n",
      "Units in LSTM layer: 55, MSE is: 399031.4256\n",
      "Units in LSTM layer: 60, MSE is: 63765.4818\n"
     ]
    }
   ],
   "source": [
    "units_number = list(range(1, 11)) + list(range(15, 65, 5))\n",
    "losses = []\n",
    "min_loss = None\n",
    "min_unit = None\n",
    "\n",
    "for unit in units_number: \n",
    "    model = Sequential()\n",
    "    model.add(LSTM(unit, activation='softplus', return_sequences=True, input_shape=(n_steps, 1)))\n",
    "    model.add(LSTM(unit, activation='softplus'))\n",
    "    model.add(Dense(1))\n",
    "    model.compile(optimizer='adam', loss='mse')\n",
    "\n",
    "    model.fit(X_train, y_train, epochs=600, validation_split=0.2, verbose=0)\n",
    "    \n",
    "    predict_y = predict(sequence, model)\n",
    "    mse = mean_squared_error(sequence, predict_y)\n",
    "\n",
    "    if min_loss is None or mse < min_loss:\n",
    "        min_unit = unit\n",
    "        min_loss = mse\n",
    "        best_model = model\n",
    "    losses.append(mse)\n",
    "    \n",
    "    print(f'Units in LSTM layer: {unit}, MSE is: {np.round(mse, 4)}')\n",
    "    if unit in (5, 6, 7, 8, 9, 40, 50):\n",
    "        plot_difference(sequence, predict_y, unit)"
   ]
  }
 ],
 "metadata": {
  "colab": {
   "collapsed_sections": [],
   "name": "(p=3).ipynb",
   "provenance": []
  },
  "kernelspec": {
   "display_name": "Python 3",
   "language": "python",
   "name": "python3"
  },
  "language_info": {
   "codemirror_mode": {
    "name": "ipython",
    "version": 3
   },
   "file_extension": ".py",
   "mimetype": "text/x-python",
   "name": "python",
   "nbconvert_exporter": "python",
   "pygments_lexer": "ipython3",
   "version": "3.7.1"
  }
 },
 "nbformat": 4,
 "nbformat_minor": 1
}
